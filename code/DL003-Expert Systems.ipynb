{
 "cells": [
  {
   "cell_type": "markdown",
   "metadata": {},
   "source": [
    "# Expert Systems\n",
    "\n",
    "In artificial intelligence, an expert system is a computer system that emulates the decision-making ability of a human expert. Expert systems are designed to solve complex problems by reasoning through bodies of knowledge, represented mainly as if–then rules rather than through conventional procedural code."
   ]
  },
  {
   "cell_type": "markdown",
   "metadata": {},
   "source": [
    "In this chapter, we will look at the expert systems, how they work and how we can move to machine learning so we can solve more complex problems, without writing the code from scratch for every new problem."
   ]
  },
  {
   "cell_type": "markdown",
   "metadata": {},
   "source": [
    "## How humans make decisions?\n",
    "\n",
    "As provided in the definition of expert system, computers try to emulate the decision-making ability of a human, so let's first see how humans make the decisions based on the past experience.\n"
   ]
  },
  {
   "cell_type": "markdown",
   "metadata": {},
   "source": [
    "Let's take an example:\n",
    "\n",
    "Suppose, there is a doctor which is examining few patients for the Dengue. Now, the doctor will collect the data(symptoms) for every patient and based on the symptoms and the past experience, the doctor will be in the position to predict if the patient has Dengue or not. \n",
    "\n",
    "![Dengue Analysis By Human](../assets/dengue_analysis_human.png)\n",
    "\n",
    "<i>Source: One Fourth Labs</i>"
   ]
  },
  {
   "cell_type": "markdown",
   "metadata": {},
   "source": [
    "## How do we souce human-decision capability to a machine?\n",
    "\n"
   ]
  },
  {
   "cell_type": "markdown",
   "metadata": {},
   "source": [
    "We can write the complex set of rules to check for all the scenarios on how human make decision and machine can also predict the same. \n",
    "\n",
    "![Dengue Analysis Machine](../assets/dengue_analysis_machine.png)\n",
    "\n",
    "<i>Source: One Fourth Labs</i>"
   ]
  },
  {
   "cell_type": "markdown",
   "metadata": {},
   "source": [
    "### Use case of Expert Systems"
   ]
  },
  {
   "cell_type": "markdown",
   "metadata": {},
   "source": [
    "![Use Cases of Expert Systems](../assets/expert_system_use_cases.png)\n",
    "\n",
    "<i>Source: One Fourth Labs</i>\n",
    "\n",
    "There have been so many use cases of Expert Systems from past so many years. But, there are many limitations to expert system, which is why we are moving to machine learning."
   ]
  },
  {
   "cell_type": "markdown",
   "metadata": {},
   "source": [
    "### Limitations of Expert System"
   ]
  },
  {
   "cell_type": "markdown",
   "metadata": {},
   "source": [
    "There are so many problems where we can't come up with set of rules to solve the problem. Like, hiring someone for the job, identifying the animals from images, converting voice to text and vice-versa, implementing self-driving cars. \n"
   ]
  },
  {
   "cell_type": "markdown",
   "metadata": {},
   "source": [
    "# Say Hi to Machine Learning"
   ]
  },
  {
   "cell_type": "markdown",
   "metadata": {},
   "source": [
    "When we talk about machine learning, we provide the system data and output and system comes with the function which best describes the relation b/w data and output we provided.\n",
    "\n",
    "![Expert System vs Machine Learning](../assets/expert_system_vs_machine_learning.png)"
   ]
  },
  {
   "cell_type": "markdown",
   "metadata": {},
   "source": [
    "## Six Elements of Machine Learning"
   ]
  },
  {
   "cell_type": "markdown",
   "metadata": {},
   "source": [
    "![Use Cases of Expert Systems](../assets/six_jars_analogy.png)\n",
    "\n",
    "<i>Source: One Fourth Labs</i>"
   ]
  },
  {
   "cell_type": "markdown",
   "metadata": {},
   "source": [
    "1. Data\n",
    "    1. Google AI \n",
    "        1. https://console.cloud.google.com/marketplace/browse?filter=solution-type:dataset\n",
    "        2. https://datasetsearch.research.google.com/\n",
    "        3. https://research.google/tools/datasets/\n",
    "    2. data.gov.in - https://data.gov.in/\n",
    "    3. UCI Machine Learning - https://archive.ics.uci.edu/ml/datasets.php\n",
    "    4. Kaggle - https://www.kaggle.com/datasets\n",
    "    5. and more\n",
    "2. Tasks\n",
    "    1. Supervised\n",
    "        1. Classification\n",
    "        2. Regression\n",
    "    2. Unsupervised\n",
    "        1. Clustering\n",
    "        2. Generation\n",
    "    3. Reinforcement\n",
    "3. Models\n",
    "4. Loss Function\n",
    "    1. Squared Error Loss\n",
    "    2. Cross Entropy Loss\n",
    "    3. KL Divergence\n",
    "5. Learning Algorithm\n",
    "    1. Gradient Descent\n",
    "    2. Gradient Descent with Momentum\n",
    "    3. Adam\n",
    "    4. and more\n",
    "6. Evaluation\n",
    "    1. Accuracy\n",
    "    2. Top-K Accuracy\n",
    "    3. Precision, Recall, F1\n",
    "    4. and more\n",
    "    "
   ]
  }
 ],
 "metadata": {
  "interpreter": {
   "hash": "5e52ad75e2e196e7a1d69304e2414d0dcd3612f2f41153a3de8e4353f88ef9d3"
  },
  "kernelspec": {
   "display_name": "Python 3.9.1 64-bit ('env': venv)",
   "language": "python",
   "name": "python3"
  },
  "language_info": {
   "codemirror_mode": {
    "name": "ipython",
    "version": 3
   },
   "file_extension": ".py",
   "mimetype": "text/x-python",
   "name": "python",
   "nbconvert_exporter": "python",
   "pygments_lexer": "ipython3",
   "version": "3.9.1"
  },
  "orig_nbformat": 2
 },
 "nbformat": 4,
 "nbformat_minor": 2
}
